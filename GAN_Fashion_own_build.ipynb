{
  "nbformat": 4,
  "nbformat_minor": 0,
  "metadata": {
    "colab": {
      "name": "GAN_Fashion_own_build.ipynb",
      "provenance": [],
      "collapsed_sections": [],
      "authorship_tag": "ABX9TyOeQxxVFvqY5C+JeX4nzE6t",
      "include_colab_link": true
    },
    "kernelspec": {
      "name": "python3",
      "display_name": "Python 3"
    }
  },
  "cells": [
    {
      "cell_type": "markdown",
      "metadata": {
        "id": "view-in-github",
        "colab_type": "text"
      },
      "source": [
        "<a href=\"https://colab.research.google.com/github/JesseRed/Colab/blob/master/GAN_Fashion_own_build.ipynb\" target=\"_parent\"><img src=\"https://colab.research.google.com/assets/colab-badge.svg\" alt=\"Open In Colab\"/></a>"
      ]
    },
    {
      "cell_type": "code",
      "metadata": {
        "id": "eBkWsnw_Gy8T",
        "colab_type": "code",
        "colab": {
          "base_uri": "https://localhost:8080/",
          "height": 101
        },
        "outputId": "df606826-c446-4e6a-ac6c-332378888076"
      },
      "source": [
        "%tensorflow_version 2.0\n",
        "import numpy as np\n",
        "import pandas as pd\n",
        "import seaborn as sns\n",
        "import matplotlib.pyplot as plt\n",
        "from tensorflow.keras.models import Sequential\n",
        "from sklearn.model_selection import train_test_split\n",
        "from sklearn.preprocessing import MinMaxScaler\n",
        "from tensorflow.keras.models import Sequential\n",
        "from tensorflow.keras.layers import Dense\n",
        "from tensorflow.keras.callbacks import EarlyStopping\n",
        "from tensorflow.keras.layers import Dropout\n",
        "from sklearn.metrics import mean_squared_error, mean_absolute_error, explained_variance_score\n",
        "from sklearn.metrics import classification_report, confusion_matrix\n",
        "import tensorflow_datasets as tfds\n",
        "import tensorflow as tf"
      ],
      "execution_count": 1,
      "outputs": [
        {
          "output_type": "stream",
          "text": [
            "`%tensorflow_version` only switches the major version: `1.x` or `2.x`.\n",
            "You set: `2.0`. This will be interpreted as: `2.x`.\n",
            "\n",
            "\n",
            "TensorFlow 2.x selected.\n"
          ],
          "name": "stdout"
        }
      ]
    },
    {
      "cell_type": "code",
      "metadata": {
        "id": "lC-4hUqXG6jf",
        "colab_type": "code",
        "colab": {
          "base_uri": "https://localhost:8080/",
          "height": 84
        },
        "outputId": "f92f1747-0f7a-4c01-e3a5-cb0b8534ba7a"
      },
      "source": [
        "buffer_size = 1000\n",
        "batch_size = 32\n",
        "dataset = tfds.load(name='fashion_mnist', split='train')\n",
        "train_ds = dataset.map(lambda item: tf.dtypes.cast(tf.squeeze(item['image']), tf.float32)/255)\n",
        "print(type(train_ds))\n",
        "print(train_ds.element_spec)\n",
        "train_ds = train_ds.shuffle(buffer_size= buffer_size).batch(32, drop_remainder=True).prefetch(1)\n",
        "print(type(train_ds))\n",
        "print(train_ds.element_spec)\n",
        "coding_size = 30"
      ],
      "execution_count": 64,
      "outputs": [
        {
          "output_type": "stream",
          "text": [
            "<class 'tensorflow.python.data.ops.dataset_ops.MapDataset'>\n",
            "TensorSpec(shape=(28, 28), dtype=tf.float32, name=None)\n",
            "<class 'tensorflow.python.data.ops.dataset_ops.PrefetchDataset'>\n",
            "TensorSpec(shape=(32, 28, 28), dtype=tf.float32, name=None)\n"
          ],
          "name": "stdout"
        }
      ]
    },
    {
      "cell_type": "markdown",
      "metadata": {
        "id": "owqGCeQMR-P4",
        "colab_type": "text"
      },
      "source": [
        "# Generator\n",
        "functional implementation"
      ]
    },
    {
      "cell_type": "code",
      "metadata": {
        "id": "xBViuJALJuz-",
        "colab_type": "code",
        "colab": {}
      },
      "source": [
        "\n",
        "inputs = tf.keras.Input(shape=(codings,))\n",
        "dense = Dense(100, activation='selu')\n",
        "x = dense(inputs)\n",
        "x = Dense(150, activation= 'selu')(x)\n",
        "x = Dense(28*28, activation='sigmoid')(x)\n",
        "output = tf.keras.layers.Reshape((28,28))(x)\n",
        "generator = tf.keras.Model(inputs=inputs, outputs = output, name = 'fashion_functional_generator')"
      ],
      "execution_count": 0,
      "outputs": []
    },
    {
      "cell_type": "markdown",
      "metadata": {
        "id": "NPW6sMiASOBl",
        "colab_type": "text"
      },
      "source": [
        "#Discriminator\n",
        "functional implementation"
      ]
    },
    {
      "cell_type": "code",
      "metadata": {
        "id": "fzmD1pGHPyX0",
        "colab_type": "code",
        "colab": {}
      },
      "source": [
        "inputs = tf.keras.Input(shape=(28,28))\n",
        "dense = Dense(100, activation='selu')\n",
        "x = dense(inputs)\n",
        "x = Dense(100, activation='selu')(x)\n",
        "output = Dense(1,activation='sigmoid')(x)\n",
        "discriminator = tf.keras.Model(inputs=inputs, outputs= output, name = 'fashion_functional_discriminator')"
      ],
      "execution_count": 0,
      "outputs": []
    },
    {
      "cell_type": "code",
      "metadata": {
        "id": "Da_u0905S6vW",
        "colab_type": "code",
        "colab": {}
      },
      "source": [
        "gan = tf.keras.Sequential([generator, discriminator])"
      ],
      "execution_count": 0,
      "outputs": []
    },
    {
      "cell_type": "code",
      "metadata": {
        "id": "lGMpJ8NBTKIS",
        "colab_type": "code",
        "colab": {}
      },
      "source": [
        "discriminator.compile(loss='binary_crossentropy', optimizer='rmsprop')\n",
        "discriminator.trainable = False\n",
        "gan.compile(loss='binary_crossentropy', optimizer='rmsprop')"
      ],
      "execution_count": 0,
      "outputs": []
    },
    {
      "cell_type": "markdown",
      "metadata": {
        "id": "U_xXe1RZT8aX",
        "colab_type": "text"
      },
      "source": [
        "Training Function\n",
        "  "
      ]
    },
    {
      "cell_type": "code",
      "metadata": {
        "id": "7e5-OnbNT7Sn",
        "colab_type": "code",
        "colab": {}
      },
      "source": [
        "def train_gan(gan, dataset, batch_size, coding_size, n_epochs):\n",
        "  generator, discriminator = gan.layers\n",
        "  for epoch in range(n_epochs):\n",
        "    print(f\"epoch = {epoch}\")\n",
        "    for X_batch in dataset:\n",
        "      # hole fake bilder vom generator\n",
        "      # erstelle noise\n",
        "      noise = tf.random.normal(shape = [batch_size,coding_size])\n",
        "      generated_images = generator(noise)\n",
        "      X_fake_and_real = tf.concat([generated_images,X_batch], axis = 0)\n",
        "      y1 = tf.constant([[0.]]*batch_size + [[1.]]*batch_size)\n",
        "      discriminator.trainable = True\n",
        "      # tue sie zusammen mit echten und trainiere den Discriminator\n",
        "      discriminator.train_on_batch(X_fake_and_real, y1)\n",
        "\n",
        "      discriminator.trainable = False\n",
        "      # noi\n",
        "      noise = tf.random.normal(shape = [batch_size, coding_size])\n",
        "      y2 = tf.constant([[1.]]*batch_size)\n",
        "      gan.train_on_batch(noise,y2)\n"
      ],
      "execution_count": 0,
      "outputs": []
    },
    {
      "cell_type": "code",
      "metadata": {
        "id": "QI-K5BgpgNcH",
        "colab_type": "code",
        "colab": {
          "base_uri": "https://localhost:8080/",
          "height": 353
        },
        "outputId": "8b97f117-606b-4151-acc4-2e3b883585c4"
      },
      "source": [
        "train_gan(gan, train_ds, batch_size, codings, 20)"
      ],
      "execution_count": 70,
      "outputs": [
        {
          "output_type": "stream",
          "text": [
            "epoch = 0\n",
            "epoch = 1\n",
            "epoch = 2\n",
            "epoch = 3\n",
            "epoch = 4\n",
            "epoch = 5\n",
            "epoch = 6\n",
            "epoch = 7\n",
            "epoch = 8\n",
            "epoch = 9\n",
            "epoch = 10\n",
            "epoch = 11\n",
            "epoch = 12\n",
            "epoch = 13\n",
            "epoch = 14\n",
            "epoch = 15\n",
            "epoch = 16\n",
            "epoch = 17\n",
            "epoch = 18\n",
            "epoch = 19\n"
          ],
          "name": "stdout"
        }
      ]
    },
    {
      "cell_type": "code",
      "metadata": {
        "id": "qtXLhNG5gXjk",
        "colab_type": "code",
        "colab": {
          "base_uri": "https://localhost:8080/",
          "height": 298
        },
        "outputId": "facf5212-6287-44fb-a5ac-8857d6c648de"
      },
      "source": [
        "noise = tf.random.normal(shape=[1, coding_size])\n",
        "gen_images = generator.predict(noise)\n",
        "print(type(gen_images))\n",
        "plt.imshow(np.squeeze(gen_images, axis = 0))"
      ],
      "execution_count": 63,
      "outputs": [
        {
          "output_type": "stream",
          "text": [
            "<class 'numpy.ndarray'>\n"
          ],
          "name": "stdout"
        },
        {
          "output_type": "execute_result",
          "data": {
            "text/plain": [
              "<matplotlib.image.AxesImage at 0x7f980e0be240>"
            ]
          },
          "metadata": {
            "tags": []
          },
          "execution_count": 63
        },
        {
          "output_type": "display_data",
          "data": {
            "image/png": "[encoded data removed]",
            "text/plain": [
              "<Figure size 432x288 with 1 Axes>"
            ]
          },
          "metadata": {
            "tags": []
          }
        }
      ]
    },
    {
      "cell_type": "code",
      "metadata": {
        "id": "q3aV8AUUmXnF",
        "colab_type": "code",
        "colab": {}
      },
      "source": [
        ""
      ],
      "execution_count": 0,
      "outputs": []
    }
  ]
}