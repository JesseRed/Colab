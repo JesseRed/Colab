{
  "nbformat": 4,
  "nbformat_minor": 0,
  "metadata": {
    "colab": {
      "name": "GAN_mnist_own.ipynb",
      "provenance": [],
      "collapsed_sections": [],
      "authorship_tag": "ABX9TyOtY1ZrwWZHWc45DYw/hGwT",
      "include_colab_link": true
    },
    "kernelspec": {
      "name": "python3",
      "display_name": "Python 3"
    },
    "accelerator": "GPU",
    "widgets": {
      "application/vnd.jupyter.widget-state+json": {
        "e98faa7a468a4e919e567bf6d6188a51": {
          "model_module": "@jupyter-widgets/controls",
          "model_name": "HBoxModel",
          "state": {
            "_view_name": "HBoxView",
            "_dom_classes": [],
            "_model_name": "HBoxModel",
            "_view_module": "@jupyter-widgets/controls",
            "_model_module_version": "1.5.0",
            "_view_count": null,
            "_view_module_version": "1.5.0",
            "box_style": "",
            "layout": "IPY_MODEL_ce59044bedcd40469c7457fea27b9e41",
            "_model_module": "@jupyter-widgets/controls",
            "children": [
              "IPY_MODEL_ea7e48005dad4820a86fe54df33f143f",
              "IPY_MODEL_e9fefbeb7311420dae745cc0f80410fe"
            ]
          }
        },
        "ce59044bedcd40469c7457fea27b9e41": {
          "model_module": "@jupyter-widgets/base",
          "model_name": "LayoutModel",
          "state": {
            "_view_name": "LayoutView",
            "grid_template_rows": null,
            "right": null,
            "justify_content": null,
            "_view_module": "@jupyter-widgets/base",
            "overflow": null,
            "_model_module_version": "1.2.0",
            "_view_count": null,
            "flex_flow": null,
            "width": null,
            "min_width": null,
            "border": null,
            "align_items": null,
            "bottom": null,
            "_model_module": "@jupyter-widgets/base",
            "top": null,
            "grid_column": null,
            "overflow_y": null,
            "overflow_x": null,
            "grid_auto_flow": null,
            "grid_area": null,
            "grid_template_columns": null,
            "flex": null,
            "_model_name": "LayoutModel",
            "justify_items": null,
            "grid_row": null,
            "max_height": null,
            "align_content": null,
            "visibility": null,
            "align_self": null,
            "height": null,
            "min_height": null,
            "padding": null,
            "grid_auto_rows": null,
            "grid_gap": null,
            "max_width": null,
            "order": null,
            "_view_module_version": "1.2.0",
            "grid_template_areas": null,
            "object_position": null,
            "object_fit": null,
            "grid_auto_columns": null,
            "margin": null,
            "display": null,
            "left": null
          }
        },
        "ea7e48005dad4820a86fe54df33f143f": {
          "model_module": "@jupyter-widgets/controls",
          "model_name": "IntProgressModel",
          "state": {
            "_view_name": "ProgressView",
            "style": "IPY_MODEL_acd5951d2bd14babaf52ac4291dc3129",
            "_dom_classes": [],
            "description": "Dl Completed...",
            "_model_name": "IntProgressModel",
            "bar_style": "success",
            "max": 19,
            "_view_module": "@jupyter-widgets/controls",
            "_model_module_version": "1.5.0",
            "value": 19,
            "_view_count": null,
            "_view_module_version": "1.5.0",
            "orientation": "horizontal",
            "min": 0,
            "description_tooltip": null,
            "_model_module": "@jupyter-widgets/controls",
            "layout": "IPY_MODEL_6dff854312b64f2ca0988732ef22d1e5"
          }
        },
        "e9fefbeb7311420dae745cc0f80410fe": {
          "model_module": "@jupyter-widgets/controls",
          "model_name": "HTMLModel",
          "state": {
            "_view_name": "HTMLView",
            "style": "IPY_MODEL_f5ca1419ced643a08ee7dd78cbf4503d",
            "_dom_classes": [],
            "description": "",
            "_model_name": "HTMLModel",
            "placeholder": "​",
            "_view_module": "@jupyter-widgets/controls",
            "_model_module_version": "1.5.0",
            "value": "100% 19/19 [00:00&lt;00:00, 24.89 file/s]",
            "_view_count": null,
            "_view_module_version": "1.5.0",
            "description_tooltip": null,
            "_model_module": "@jupyter-widgets/controls",
            "layout": "IPY_MODEL_61659696da28440ea4469ec6b2aafad6"
          }
        },
        "acd5951d2bd14babaf52ac4291dc3129": {
          "model_module": "@jupyter-widgets/controls",
          "model_name": "ProgressStyleModel",
          "state": {
            "_view_name": "StyleView",
            "_model_name": "ProgressStyleModel",
            "description_width": "initial",
            "_view_module": "@jupyter-widgets/base",
            "_model_module_version": "1.5.0",
            "_view_count": null,
            "_view_module_version": "1.2.0",
            "bar_color": null,
            "_model_module": "@jupyter-widgets/controls"
          }
        },
        "6dff854312b64f2ca0988732ef22d1e5": {
          "model_module": "@jupyter-widgets/base",
          "model_name": "LayoutModel",
          "state": {
            "_view_name": "LayoutView",
            "grid_template_rows": null,
            "right": null,
            "justify_content": null,
            "_view_module": "@jupyter-widgets/base",
            "overflow": null,
            "_model_module_version": "1.2.0",
            "_view_count": null,
            "flex_flow": null,
            "width": null,
            "min_width": null,
            "border": null,
            "align_items": null,
            "bottom": null,
            "_model_module": "@jupyter-widgets/base",
            "top": null,
            "grid_column": null,
            "overflow_y": null,
            "overflow_x": null,
            "grid_auto_flow": null,
            "grid_area": null,
            "grid_template_columns": null,
            "flex": null,
            "_model_name": "LayoutModel",
            "justify_items": null,
            "grid_row": null,
            "max_height": null,
            "align_content": null,
            "visibility": null,
            "align_self": null,
            "height": null,
            "min_height": null,
            "padding": null,
            "grid_auto_rows": null,
            "grid_gap": null,
            "max_width": null,
            "order": null,
            "_view_module_version": "1.2.0",
            "grid_template_areas": null,
            "object_position": null,
            "object_fit": null,
            "grid_auto_columns": null,
            "margin": null,
            "display": null,
            "left": null
          }
        },
        "f5ca1419ced643a08ee7dd78cbf4503d": {
          "model_module": "@jupyter-widgets/controls",
          "model_name": "DescriptionStyleModel",
          "state": {
            "_view_name": "StyleView",
            "_model_name": "DescriptionStyleModel",
            "description_width": "",
            "_view_module": "@jupyter-widgets/base",
            "_model_module_version": "1.5.0",
            "_view_count": null,
            "_view_module_version": "1.2.0",
            "_model_module": "@jupyter-widgets/controls"
          }
        },
        "61659696da28440ea4469ec6b2aafad6": {
          "model_module": "@jupyter-widgets/base",
          "model_name": "LayoutModel",
          "state": {
            "_view_name": "LayoutView",
            "grid_template_rows": null,
            "right": null,
            "justify_content": null,
            "_view_module": "@jupyter-widgets/base",
            "overflow": null,
            "_model_module_version": "1.2.0",
            "_view_count": null,
            "flex_flow": null,
            "width": null,
            "min_width": null,
            "border": null,
            "align_items": null,
            "bottom": null,
            "_model_module": "@jupyter-widgets/base",
            "top": null,
            "grid_column": null,
            "overflow_y": null,
            "overflow_x": null,
            "grid_auto_flow": null,
            "grid_area": null,
            "grid_template_columns": null,
            "flex": null,
            "_model_name": "LayoutModel",
            "justify_items": null,
            "grid_row": null,
            "max_height": null,
            "align_content": null,
            "visibility": null,
            "align_self": null,
            "height": null,
            "min_height": null,
            "padding": null,
            "grid_auto_rows": null,
            "grid_gap": null,
            "max_width": null,
            "order": null,
            "_view_module_version": "1.2.0",
            "grid_template_areas": null,
            "object_position": null,
            "object_fit": null,
            "grid_auto_columns": null,
            "margin": null,
            "display": null,
            "left": null
          }
        }
      }
    }
  },
  "cells": [
    {
      "cell_type": "markdown",
      "metadata": {
        "id": "view-in-github",
        "colab_type": "text"
      },
      "source": [
        "<a href=\"https://colab.research.google.com/github/JesseRed/Colab/blob/master/GAN_mnist_own.ipynb\" target=\"_parent\"><img src=\"https://colab.research.google.com/assets/colab-badge.svg\" alt=\"Open In Colab\"/></a>"
      ]
    },
    {
      "cell_type": "code",
      "metadata": {
        "id": "_0fUmLdHdVfQ",
        "colab_type": "code",
        "colab": {
          "base_uri": "https://localhost:8080/",
          "height": 101
        },
        "outputId": "9527f79a-22bf-4c71-d6c8-bc90c3c716fd"
      },
      "source": [
        "%tensorflow_version 2.0\n",
        "import numpy as np\n",
        "import tensorflow as tf\n",
        "import tensorflow_datasets as tfds\n",
        "import matplotlib.pyplot as plt\n"
      ],
      "execution_count": 1,
      "outputs": [
        {
          "output_type": "stream",
          "text": [
            "`%tensorflow_version` only switches the major version: `1.x` or `2.x`.\n",
            "You set: `2.0`. This will be interpreted as: `2.x`.\n",
            "\n",
            "\n",
            "TensorFlow 2.x selected.\n"
          ],
          "name": "stdout"
        }
      ]
    },
    {
      "cell_type": "code",
      "metadata": {
        "id": "o8mqTC1UdnhB",
        "colab_type": "code",
        "colab": {
          "base_uri": "https://localhost:8080/",
          "height": 250,
          "referenced_widgets": [
            "e98faa7a468a4e919e567bf6d6188a51",
            "ce59044bedcd40469c7457fea27b9e41",
            "ea7e48005dad4820a86fe54df33f143f",
            "e9fefbeb7311420dae745cc0f80410fe",
            "acd5951d2bd14babaf52ac4291dc3129",
            "6dff854312b64f2ca0988732ef22d1e5",
            "f5ca1419ced643a08ee7dd78cbf4503d",
            "61659696da28440ea4469ec6b2aafad6"
          ]
        },
        "outputId": "9065df16-58cf-4043-b509-6413cd11f20b"
      },
      "source": [
        "buffer_size = 1000\n",
        "coding_size = 30\n",
        "batch_size  = 32\n",
        "\n",
        "def changing_tensor(item):\n",
        "  item = tf.squeeze(item['image'])/255\n",
        "  item.name = 'ck_mnist_tensorX'\n",
        "  return item\n",
        "\n",
        "dataset, info = tfds.load('mnist',split= 'train', with_info =True)\n",
        "print(dataset.element_spec)\n",
        "ds = dataset.map(lambda item: tf.squeeze(item['image']/255))\n",
        "#ds = ds.map(lambda item: tf.py_function(func=changing_tensor,inp = [item], Tout=tf.float32)) \n",
        "print(ds.element_spec)\n",
        "ds = ds.shuffle(buffer_size).batch(batch_size, drop_remainder = True).prefetch(1)\n",
        "print(ds.element_spec)\n",
        "\n"
      ],
      "execution_count": 2,
      "outputs": [
        {
          "output_type": "stream",
          "text": [
            "\u001b[1mDownloading and preparing dataset mnist (11.06 MiB) to /root/tensorflow_datasets/mnist/1.0.0...\u001b[0m\n"
          ],
          "name": "stdout"
        },
        {
          "output_type": "stream",
          "text": [
            "WARNING:absl:Dataset mnist is hosted on GCS. It will automatically be downloaded to your\n",
            "local data directory. If you'd instead prefer to read directly from our public\n",
            "GCS bucket (recommended if you're running on GCP), you can instead set\n",
            "data_dir=gs://tfds-data/datasets.\n",
            "\n"
          ],
          "name": "stderr"
        },
        {
          "output_type": "display_data",
          "data": {
            "application/vnd.jupyter.widget-view+json": {
              "model_id": "e98faa7a468a4e919e567bf6d6188a51",
              "version_minor": 0,
              "version_major": 2
            },
            "text/plain": [
              "HBox(children=(IntProgress(value=0, description='Dl Completed...', max=19, style=ProgressStyle(description_wid…"
            ]
          },
          "metadata": {
            "tags": []
          }
        },
        {
          "output_type": "stream",
          "text": [
            "\n",
            "\n",
            "\u001b[1mDataset mnist downloaded and prepared to /root/tensorflow_datasets/mnist/1.0.0. Subsequent calls will reuse this data.\u001b[0m\n",
            "{'image': TensorSpec(shape=(28, 28, 1), dtype=tf.uint8, name=None), 'label': TensorSpec(shape=(), dtype=tf.int64, name=None)}\n",
            "TensorSpec(shape=(28, 28), dtype=tf.float32, name=None)\n",
            "TensorSpec(shape=(32, 28, 28), dtype=tf.float32, name=None)\n"
          ],
          "name": "stdout"
        }
      ]
    },
    {
      "cell_type": "markdown",
      "metadata": {
        "id": "zEdcqYMOpHj9",
        "colab_type": "text"
      },
      "source": [
        "# Generator\n",
        "Model of the Generator"
      ]
    },
    {
      "cell_type": "code",
      "metadata": {
        "id": "28yOM2Z_ev_v",
        "colab_type": "code",
        "colab": {}
      },
      "source": [
        "coding_size = 30\n",
        "inputs = tf.keras.Input(shape=(coding_size,))\n",
        "x = tf.keras.layers.Dense(100,activation='selu')(inputs)\n",
        "x = tf.keras.layers.Dense(150,activation='selu')(x)\n",
        "x = tf.keras.layers.Dense(28*28,activation='sigmoid')(x)\n",
        "outputs = tf.keras.layers.Reshape((28,28))(x)\n",
        "generator = tf.keras.Model(inputs=inputs, outputs = outputs)"
      ],
      "execution_count": 0,
      "outputs": []
    },
    {
      "cell_type": "code",
      "metadata": {
        "id": "jbN7_Ishmxfu",
        "colab_type": "code",
        "colab": {}
      },
      "source": [
        "coding_size = 100\n",
        "inputs = tf.keras.Input(shape=(coding_size,))\n",
        "x = tf.keras.layers.Dense(7*7*128,activation='selu')(inputs)\n",
        "x = tf.keras.layers.Reshape((7,7,128))(x)\n",
        "x = tf.keras.layers.BatchNormalization()(x)\n",
        "x = tf.keras.layers.Conv2DTranspose(64, kernel_size=5, strides=2, padding='same', activation='selu')(x)\n",
        "x = tf.keras.layers.BatchNormalization()(x)\n",
        "outputs = tf.keras.layers.Conv2DTranspose(1,kernel_size=5, strides=2, padding='same', activation='tanh')(x)\n",
        "generator = tf.keras.Model(inputs=inputs, outputs = outputs)"
      ],
      "execution_count": 0,
      "outputs": []
    },
    {
      "cell_type": "markdown",
      "metadata": {
        "id": "co8O8WNpqYpw",
        "colab_type": "text"
      },
      "source": [
        "# Discriminator\n",
        "Model of the Discriminator"
      ]
    },
    {
      "cell_type": "code",
      "metadata": {
        "id": "VVrxitr7qUCW",
        "colab_type": "code",
        "colab": {}
      },
      "source": [
        "inputs = tf.keras.Input(shape=(28,28))\n",
        "x = tf.keras.layers.Flatten(input_shape = [28,28])(inputs)\n",
        "x = tf.keras.layers.Dense(150,activation='selu')(x)\n",
        "x = tf.keras.layers.Dense(100,activation='selu')(x)\n",
        "outputs = tf.keras.layers.Dense(1,activation='sigmoid')(x)\n",
        "discriminator = tf.keras.Model(inputs = inputs, outputs=outputs)"
      ],
      "execution_count": 0,
      "outputs": []
    },
    {
      "cell_type": "code",
      "metadata": {
        "id": "8T-ZK7Byo9op",
        "colab_type": "code",
        "colab": {}
      },
      "source": [
        "inputs = tf.keras.Input(shape=(28,28,1))\n",
        "x = tf.keras.layers.Conv2D(64,kernel_size=5, padding='same', activation=tf.keras.layers.LeakyReLU(0.2))(inputs)\n",
        "x = tf.keras.layers.Dropout(0.4)(x)\n",
        "x = tf.keras.layers.Conv2D(128, kernel_size=5, strides = 2, padding = 'same', activation= tf.keras.layers.LeakyReLU(0.2))(x)\n",
        "x = tf.keras.layers.Dropout(0.4)(x)\n",
        "x = tf.keras.layers.Flatten()(x)\n",
        "outputs = tf.keras.layers.Dense(1, activation= 'sigmoid')(x)\n",
        "discriminator = tf.keras.Model(inputs=inputs, outputs = outputs)"
      ],
      "execution_count": 0,
      "outputs": []
    },
    {
      "cell_type": "code",
      "metadata": {
        "id": "dsqxirXZrfvL",
        "colab_type": "code",
        "colab": {
          "base_uri": "https://localhost:8080/",
          "height": 67
        },
        "outputId": "1ee3f242-a5e1-48e6-9715-fb9e87bf0675"
      },
      "source": [
        "\n",
        "dataset, info = tfds.load('mnist',split= 'train', with_info =True)\n",
        "print(dataset.element_spec)\n",
        "ds = dataset.map(lambda item: tf.reshape(tf.squeeze(item['image']/255*2-1), [28,28,1]))\n",
        "print(ds.element_spec)\n",
        "ds = ds.shuffle(buffer_size).batch(batch_size, drop_remainder = True).prefetch(1)\n",
        "print(ds.element_spec)\n"
      ],
      "execution_count": 7,
      "outputs": [
        {
          "output_type": "stream",
          "text": [
            "{'image': TensorSpec(shape=(28, 28, 1), dtype=tf.uint8, name=None), 'label': TensorSpec(shape=(), dtype=tf.int64, name=None)}\n",
            "TensorSpec(shape=(28, 28, 1), dtype=tf.float32, name=None)\n",
            "TensorSpec(shape=(32, 28, 28, 1), dtype=tf.float32, name=None)\n"
          ],
          "name": "stdout"
        }
      ]
    },
    {
      "cell_type": "markdown",
      "metadata": {
        "id": "mXNkO1j8rEXY",
        "colab_type": "text"
      },
      "source": [
        "#Compiling the Models\n"
      ]
    },
    {
      "cell_type": "code",
      "metadata": {
        "id": "3mN4gGEXq-aE",
        "colab_type": "code",
        "colab": {}
      },
      "source": [
        "gan = tf.keras.Sequential([generator, discriminator])\n",
        "discriminator.compile(loss='binary_crossentropy', optimizer='rmsprop')\n",
        "discriminator.trainable = False\n",
        "gan.compile(loss='binary_crossentropy', optimizer= 'rmsprop')\n"
      ],
      "execution_count": 0,
      "outputs": []
    },
    {
      "cell_type": "markdown",
      "metadata": {
        "id": "oubyg3J8sKl6",
        "colab_type": "text"
      },
      "source": [
        "#Training Function"
      ]
    },
    {
      "cell_type": "code",
      "metadata": {
        "id": "jwUKNuXdsI6Z",
        "colab_type": "code",
        "colab": {}
      },
      "source": [
        "def train_the_gan(gan, dataset, batch_size, coding_size, n_epochs = 20):\n",
        "  generator, discriminator = gan.layers\n",
        "  for epoch in range(n_epochs):\n",
        "    print(f\"epoch = {epoch}\")\n",
        "    for X_batch in dataset:\n",
        "      noise = tf.random.normal(shape=[batch_size, coding_size])\n",
        "      generated_images = generator(noise)\n",
        "      X_batch_fake_and_real = tf.concat([generated_images, X_batch],axis = 0)\n",
        "      y1 = tf.constant([[0.]]*batch_size +[[1.]]*batch_size)\n",
        "      discriminator.trainable = True\n",
        "      discriminator.train_on_batch(X_batch_fake_and_real, y1)\n",
        "      # generator training\n",
        "      \n",
        "      noise = tf.random.normal(shape=[batch_size, coding_size])\n",
        "      y2 = tf.constant([[1.]]*batch_size)\n",
        "      discriminator.trainable=False\n",
        "      gan.train_on_batch(noise,y2)\n",
        "\n"
      ],
      "execution_count": 0,
      "outputs": []
    },
    {
      "cell_type": "code",
      "metadata": {
        "id": "MuOG0zVyuwii",
        "colab_type": "code",
        "colab": {
          "base_uri": "https://localhost:8080/",
          "height": 689
        },
        "outputId": "71ded6d4-5309-492a-b574-414c6f316a2a"
      },
      "source": [
        "train_the_gan(gan, ds, batch_size, coding_size, 40)"
      ],
      "execution_count": 10,
      "outputs": [
        {
          "output_type": "stream",
          "text": [
            "epoch = 0\n",
            "epoch = 1\n",
            "epoch = 2\n",
            "epoch = 3\n",
            "epoch = 4\n",
            "epoch = 5\n",
            "epoch = 6\n",
            "epoch = 7\n",
            "epoch = 8\n",
            "epoch = 9\n",
            "epoch = 10\n",
            "epoch = 11\n",
            "epoch = 12\n",
            "epoch = 13\n",
            "epoch = 14\n",
            "epoch = 15\n",
            "epoch = 16\n",
            "epoch = 17\n",
            "epoch = 18\n",
            "epoch = 19\n",
            "epoch = 20\n",
            "epoch = 21\n",
            "epoch = 22\n",
            "epoch = 23\n",
            "epoch = 24\n",
            "epoch = 25\n",
            "epoch = 26\n",
            "epoch = 27\n",
            "epoch = 28\n",
            "epoch = 29\n",
            "epoch = 30\n",
            "epoch = 31\n",
            "epoch = 32\n",
            "epoch = 33\n",
            "epoch = 34\n",
            "epoch = 35\n",
            "epoch = 36\n",
            "epoch = 37\n",
            "epoch = 38\n",
            "epoch = 39\n"
          ],
          "name": "stdout"
        }
      ]
    },
    {
      "cell_type": "code",
      "metadata": {
        "id": "ngD-lKBWw9FG",
        "colab_type": "code",
        "colab": {
          "base_uri": "https://localhost:8080/",
          "height": 50
        },
        "outputId": "d9d2d26f-6ee3-43a4-8836-f9ab65c52c51"
      },
      "source": [
        "dummy = [0.]*5 +[0.]*5\n",
        "print(type(dummy))\n",
        "dummy"
      ],
      "execution_count": 37,
      "outputs": [
        {
          "output_type": "stream",
          "text": [
            "<class 'list'>\n"
          ],
          "name": "stdout"
        },
        {
          "output_type": "execute_result",
          "data": {
            "text/plain": [
              "[0.0, 0.0, 0.0, 0.0, 0.0, 0.0, 0.0, 0.0, 0.0, 0.0]"
            ]
          },
          "metadata": {
            "tags": []
          },
          "execution_count": 37
        }
      ]
    },
    {
      "cell_type": "code",
      "metadata": {
        "id": "-Rk4dGHCxSRY",
        "colab_type": "code",
        "colab": {
          "base_uri": "https://localhost:8080/",
          "height": 332
        },
        "outputId": "c396b507-f0a4-475e-9bca-447e3cb2a64e"
      },
      "source": [
        "noise = tf.random.normal(shape=[1,coding_size])\n",
        "print(noise.shape)\n",
        "image = generator(noise)\n",
        "print(type(image))\n",
        "image = tf.squeeze(image)\n",
        "print(image.shape)\n",
        "plt.imshow(image)"
      ],
      "execution_count": 28,
      "outputs": [
        {
          "output_type": "stream",
          "text": [
            "(1, 100)\n",
            "<class 'tensorflow.python.framework.ops.EagerTensor'>\n",
            "(28, 28)\n"
          ],
          "name": "stdout"
        },
        {
          "output_type": "execute_result",
          "data": {
            "text/plain": [
              "<matplotlib.image.AxesImage at 0x7f55508dda20>"
            ]
          },
          "metadata": {
            "tags": []
          },
          "execution_count": 28
        },
        {
          "output_type": "display_data",
          "data": {
            "image/png": "[encoded data removed]",
            "text/plain": [
              "<Figure size 432x288 with 1 Axes>"
            ]
          },
          "metadata": {
            "tags": []
          }
        }
      ]
    },
    {
      "cell_type": "code",
      "metadata": {
        "id": "bI9i7HqDAUIe",
        "colab_type": "code",
        "colab": {}
      },
      "source": [
        ""
      ],
      "execution_count": 0,
      "outputs": []
    }
  ]
}